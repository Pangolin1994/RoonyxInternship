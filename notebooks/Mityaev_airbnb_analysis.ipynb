{
 "cells": [
  {
   "cell_type": "code",
   "execution_count": null,
   "metadata": {},
   "outputs": [],
   "source": [
    "import os\n",
    "import numpy as np\n",
    "import pandas as pd\n",
    "import matplotlib.pyplot as plt\n",
    "import seaborn as sns\n",
    "from scipy import stats\n",
    "\n",
    "%matplotlib inline\n",
    "\n",
    "data_dir = '../data'\n",
    "filename = 'AB_NYC_2019.csv'\n",
    "data_path = os.path.join(data_dir, filename)\n",
    "\n",
    "df = pd.read_csv(data_path)\n",
    "df.shape"
   ]
  },
  {
   "cell_type": "code",
   "execution_count": null,
   "metadata": {
    "pycharm": {
     "name": "#%%\n"
    }
   },
   "outputs": [],
   "source": [
    "df.head()"
   ]
  },
  {
   "cell_type": "code",
   "execution_count": null,
   "metadata": {},
   "outputs": [],
   "source": [
    "df['last_review'] = pd.to_datetime(df['last_review'])\n",
    "\n",
    "unfilled_cols = df.columns[df.isnull().any()]\n",
    "unfilled_cols"
   ]
  },
  {
   "cell_type": "code",
   "execution_count": null,
   "metadata": {
    "pycharm": {
     "name": "#%%\n"
    }
   },
   "outputs": [],
   "source": [
    "df.info()"
   ]
  },
  {
   "cell_type": "code",
   "execution_count": null,
   "metadata": {},
   "outputs": [],
   "source": [
    "# Descriptive stats excluding non-numeric columns\n",
    "df.describe()"
   ]
  },
  {
   "cell_type": "code",
   "execution_count": null,
   "metadata": {},
   "outputs": [],
   "source": [
    "df.describe(include='object')"
   ]
  },
  {
   "cell_type": "code",
   "execution_count": null,
   "metadata": {},
   "outputs": [],
   "source": [
    "no_hostname = df[df['host_name'].isnull()]\n",
    "df.drop(index=no_hostname.index, inplace=True)"
   ]
  },
  {
   "cell_type": "code",
   "execution_count": null,
   "metadata": {},
   "outputs": [],
   "source": [
    "no_name = df[df['name'].isnull()]\n",
    "df.drop(index=no_name.index, inplace=True)"
   ]
  },
  {
   "cell_type": "code",
   "execution_count": null,
   "metadata": {},
   "outputs": [],
   "source": [
    "# About of 10k (almost quarter of full dataset!!!)\n",
    "# observations don't have useful reviews info \n",
    "no_info_cond = df['number_of_reviews'] == 0 & \\\n",
    "               df['last_review'].isnull() & \\\n",
    "               df['reviews_per_month'].isnull()\n",
    "no_info_sample = df[no_info_cond]\n",
    "\n",
    "df.drop(index=no_info_sample.index, inplace=True)\n",
    "\n",
    "df.index = range(len(df))"
   ]
  },
  {
   "cell_type": "code",
   "execution_count": null,
   "metadata": {},
   "outputs": [],
   "source": [
    "neighbourhood_vc = df['neighbourhood'].value_counts(normalize=True)\n",
    "print(f'Count of neighbourhoods {len(neighbourhood_vc)}')\n",
    "neighbourhood_vc.head()"
   ]
  },
  {
   "cell_type": "code",
   "execution_count": null,
   "metadata": {},
   "outputs": [],
   "source": [
    "hostname_vc = df['host_name'].value_counts(normalize=True)\n",
    "print(f'Count of host names {len(hostname_vc)}')\n",
    "hostname_vc.head()"
   ]
  },
  {
   "cell_type": "code",
   "execution_count": null,
   "metadata": {},
   "outputs": [],
   "source": [
    "by_nhgroup = df.groupby(by='neighbourhood_group')\n",
    "\n",
    "price_rev_stats = by_nhgroup[\n",
    "    ['price', 'reviews_per_month']\n",
    "].agg([np.mean, np.std])\n",
    "\n",
    "price_rev_stats"
   ]
  },
  {
   "cell_type": "code",
   "execution_count": null,
   "metadata": {
    "pycharm": {
     "name": "#%%\n"
    }
   },
   "outputs": [],
   "source": [
    "by_nhgroup[['number_of_reviews', 'reviews_per_month']].median()"
   ]
  },
  {
   "cell_type": "code",
   "execution_count": null,
   "metadata": {
    "pycharm": {
     "name": "#%%\n"
    }
   },
   "outputs": [],
   "source": [
    "by_room = df.groupby(by='room_type')\n",
    "\n",
    "def get_stats(group):\n",
    "    return pd.DataFrame({\n",
    "        'count': group.count(),\n",
    "        'mean': group.mean(),\n",
    "        'std': group.std()\n",
    "    })\n",
    "\n",
    "by_room_stats = by_room[\n",
    "    ['number_of_reviews', 'minimum_nights']\n",
    "].apply(get_stats)\n",
    "\n",
    "by_room_stats.unstack()"
   ]
  },
  {
   "cell_type": "code",
   "execution_count": null,
   "metadata": {},
   "outputs": [],
   "source": [
    "def avg_per_sample(group):\n",
    "    return group.sum() / group.count()\n",
    "\n",
    "transf = by_room[\n",
    "    ['number_of_reviews', 'minimum_nights', 'reviews_per_month']\n",
    "].transform(avg_per_sample)\n",
    "\n",
    "transf.head()"
   ]
  },
  {
   "cell_type": "code",
   "execution_count": null,
   "metadata": {
    "pycharm": {
     "name": "#%%\n"
    }
   },
   "outputs": [],
   "source": [
    "num_df = df.select_dtypes(include=np.number)\n",
    "diff_mean_df = num_df.apply(lambda x: abs(x - x.mean()))\n",
    "diff_mean_df.iloc[:, 4:].head()"
   ]
  },
  {
   "cell_type": "code",
   "execution_count": null,
   "metadata": {
    "pycharm": {
     "name": "#%%\n"
    }
   },
   "outputs": [],
   "source": [
    "def plot_hbar(frame: pd.DataFrame, column: str):\n",
    "    data = frame[column]\n",
    "    vc = data.value_counts()\n",
    "    cat_values = vc.index\n",
    "    y_pos = np.arange(len(cat_values))\n",
    "\n",
    "    plt.figure(figsize=(8, 4))\n",
    "    plt.yticks(y_pos, cat_values)\n",
    "    plt.barh(cat_values, vc, height=0.7)\n",
    "    plt.title(f'{column} distribution')\n",
    "    plt.grid()"
   ]
  },
  {
   "cell_type": "code",
   "execution_count": null,
   "metadata": {},
   "outputs": [],
   "source": [
    "plot_hbar(df, column='room_type')"
   ]
  },
  {
   "cell_type": "code",
   "execution_count": null,
   "metadata": {
    "pycharm": {
     "name": "#%%\n"
    }
   },
   "outputs": [],
   "source": [
    "plot_hbar(df, column='neighbourhood_group')"
   ]
  },
  {
   "cell_type": "code",
   "execution_count": null,
   "metadata": {},
   "outputs": [],
   "source": [
    "nh_vc = df['neighbourhood'].value_counts()\n",
    "top_nh = nh_vc[:30]\n",
    "values = top_nh.index\n",
    "pos = np.arange(len(values))\n",
    "\n",
    "plt.figure(figsize=(20, 8))\n",
    "plt.xticks(pos, values, rotation=60)\n",
    "plt.bar(values, top_nh, width=0.7)\n",
    "plt.title('neighbourhood distribution')\n",
    "plt.grid()"
   ]
  },
  {
   "cell_type": "code",
   "execution_count": null,
   "metadata": {},
   "outputs": [],
   "source": [
    "cols_to_hist = ['number_of_reviews', 'minimum_nights',\n",
    "                'reviews_per_month']\n",
    "\n",
    "fig, ax = plt.subplots(1, 3, figsize=(20, 6), sharey=True)\n",
    "for (col, axis) in zip(cols_to_hist, ax):\n",
    "    axis.hist(df[col], bins=30)\n",
    "    axis.set_title(col)\n",
    "    axis.grid()\n",
    "    \n",
    "plt.subplots_adjust(wspace=0.05)"
   ]
  },
  {
   "cell_type": "code",
   "execution_count": null,
   "metadata": {
    "pycharm": {
     "name": "#%%\n"
    }
   },
   "outputs": [],
   "source": [
    "cols_to_dist = ['price', 'availability_365',\n",
    "                'calculated_host_listings_count']\n",
    "\n",
    "fig, ax = plt.subplots(1, 3, figsize=(20, 6))\n",
    "for col, axis in zip(cols_to_dist, ax):\n",
    "    sns.distplot(df[col], bins=30, color='red',\n",
    "                 label=col, ax=axis)\n",
    "    axis.legend()\n",
    "    axis.grid()\n",
    "\n",
    "plt.subplots_adjust(wspace=0.15)"
   ]
  },
  {
   "cell_type": "code",
   "execution_count": null,
   "metadata": {
    "pycharm": {
     "name": "#%%\n"
    }
   },
   "outputs": [],
   "source": [
    "fig, ax = plt.subplots(1, 2, figsize=(20, 8))\n",
    "sns.scatterplot(df['number_of_reviews'], df['reviews_per_month'],\n",
    "                ax=ax[0], hue=df['room_type'])\n",
    "sns.scatterplot(df['price'], df['minimum_nights'],\n",
    "                ax=ax[1], hue=df['room_type'])\n",
    "\n",
    "ax[0].grid()\n",
    "ax[1].grid()\n",
    "ax[0].set_ylim([-1, 30])\n",
    "plt.subplots_adjust(wspace=0.1)"
   ]
  },
  {
   "cell_type": "code",
   "execution_count": null,
   "metadata": {
    "pycharm": {
     "name": "#%%\n"
    }
   },
   "outputs": [],
   "source": [
    "fig, ax = plt.subplots(1, 2, figsize=(20, 8))\n",
    "sns.scatterplot(df['number_of_reviews'], df['price'],\n",
    "                ax=ax[0], hue=df['neighbourhood_group'])\n",
    "sns.scatterplot(df['availability_365'], df['price'],\n",
    "                ax=ax[1], hue=df['neighbourhood_group'])\n",
    "\n",
    "ax[0].grid()\n",
    "ax[1].grid()\n",
    "plt.subplots_adjust(wspace=0.1)"
   ]
  },
  {
   "cell_type": "code",
   "execution_count": null,
   "metadata": {},
   "outputs": [],
   "source": [
    "def extract_date(data):\n",
    "    return data.dt.year, data.dt.month, data.dt.day\n",
    "\n",
    "year, month, day = extract_date(df['last_review'])\n",
    "\n",
    "df[['review_year', 'review_month',\n",
    "    'review_day']] = pd.DataFrame({'year': year,\n",
    "                        'month': month,\n",
    "                        'day': day})\n",
    "\n",
    "df.drop(columns='last_review', inplace=True)"
   ]
  },
  {
   "cell_type": "code",
   "execution_count": null,
   "metadata": {},
   "outputs": [],
   "source": [
    "# FE (1 part)\n",
    "df[['avg_reviews', 'avg_min_nights',\n",
    "    'avg_reviews_per_month']] = transf\n",
    "\n",
    "def diff_avg(group):\n",
    "    return abs(group - group.mean())\n",
    "\n",
    "diff_avg = by_nhgroup[\n",
    "    ['number_of_reviews', 'availability_365']\n",
    "].apply(diff_avg)\n",
    "df[['diff_med_reviews', 'diff_med_availability']] = diff_avg\n",
    "\n",
    "df['year_available'] = df['availability_365'] == 365\n",
    "\n",
    "df['host_count_mean'] = diff_mean_df['calculated_host_listings_count']\n",
    "\n",
    "df['review_period'] = df['number_of_reviews'] / df['reviews_per_month']"
   ]
  },
  {
   "cell_type": "code",
   "execution_count": null,
   "metadata": {},
   "outputs": [],
   "source": [
    "# FE (2 part)\n",
    "by_hostname = df.groupby(by='host_name')\n",
    "\n",
    "def diff_median(group):\n",
    "    return abs(group - group.median())\n",
    "\n",
    "diff_med_reviews = by_hostname[\n",
    "    ['number_of_reviews', 'reviews_per_month']\n",
    "].apply(diff_median)\n",
    "df[['reviews_by_hostname',\n",
    "    'reviews_per_month_by_hostname']] = diff_med_reviews\n",
    "\n",
    "df['is_rare_type'] = df['room_type'] == 'Private room'\n",
    "\n",
    "df['reviews_per_host'] = df['number_of_reviews'] / df['calculated_host_listings_count']\n",
    "\n",
    "df['min_available'] = df['minimum_nights'] * df['availability_365']"
   ]
  },
  {
   "cell_type": "code",
   "execution_count": null,
   "metadata": {},
   "outputs": [],
   "source": [
    "df.head()"
   ]
  },
  {
   "cell_type": "code",
   "execution_count": null,
   "metadata": {},
   "outputs": [],
   "source": [
    "fg = sns.catplot(x='price', y='neighbourhood_group',\n",
    "                 data=df, orient='h', legend_out=True)\n",
    "fg.ax.set_xlim([-100, 2000])\n",
    "fg.fig.set_figwidth(16)\n",
    "fg.fig.set_figheight(6)"
   ]
  },
  {
   "cell_type": "code",
   "execution_count": null,
   "metadata": {},
   "outputs": [],
   "source": [
    "top_nh = nh_vc[:5]\n",
    "top_nh_df = df[df['neighbourhood'].isin(top_nh.index)]\n",
    "\n",
    "fg = sns.catplot(x='price', y='neighbourhood',\n",
    "                 data=top_nh_df, orient='h', legend_out=True)\n",
    "fg.ax.set_xlim([-100, 2000])\n",
    "fg.fig.set_figwidth(16)\n",
    "fg.fig.set_figheight(6)"
   ]
  },
  {
   "cell_type": "code",
   "execution_count": null,
   "metadata": {
    "pycharm": {
     "name": "#%%\n"
    }
   },
   "outputs": [],
   "source": [
    "by_nh = df.groupby(by='neighbourhood')\n",
    "\n",
    "length = len(by_nh) \n",
    "first_half_price = by_nh['price'].sum()[:length // 2]\n",
    "second_half_price = by_nh['price'].sum()[length // 2:]\n",
    "\n",
    "fig, ax = plt.subplots(2, 1, figsize=(20, 18))\n",
    "first_half_price.plot(kind='bar', rot=90, ax=ax[0], width=0.6)\n",
    "second_half_price.plot(kind='bar', rot=90, ax=ax[1], width=0.6)\n",
    "plt.tight_layout()"
   ]
  },
  {
   "cell_type": "code",
   "execution_count": null,
   "metadata": {
    "pycharm": {
     "name": "#%%\n"
    }
   },
   "outputs": [],
   "source": [
    "flier_props = {'marker': 'o', 'markerfacecolor': 'red', 'markersize': 5}\n",
    "median_props = dict(linestyle='-', linewidth=3, color='firebrick')\n",
    "meanpoint_props = dict(marker='D', markerfacecolor='blue',\n",
    "                       linestyle='-', linewidth=2, markersize=8)\n",
    "\n",
    "plt.figure(figsize=(20, 3))\n",
    "ax = plt.gca()\n",
    "ax.set_xlim([-100, 2000])\n",
    "\n",
    "box = plt.boxplot(df['price'], labels=['price'], vert=False,\n",
    "                  flierprops=flier_props, medianprops=median_props, \n",
    "                  meanprops=meanpoint_props, meanline=True,\n",
    "                  showmeans=True, widths=0.6)"
   ]
  },
  {
   "cell_type": "code",
   "execution_count": null,
   "metadata": {},
   "outputs": [],
   "source": [
    "target = df['price']\n",
    "df.drop(columns=['price'], inplace=True)"
   ]
  },
  {
   "cell_type": "code",
   "execution_count": null,
   "metadata": {},
   "outputs": [],
   "source": [
    "# What to do with zero price ?\n",
    "print(f'There isn\"t price in {len(target[target == 0.0])} observations')\n",
    "target.replace(to_replace=0, value=target.mean(), inplace=True)"
   ]
  },
  {
   "cell_type": "code",
   "execution_count": null,
   "metadata": {},
   "outputs": [],
   "source": [
    "skew = target.skew()\n",
    "kurt = target.kurtosis()\n",
    "print(f'Target skewness: {skew:.4f}\\nkurtosis: {kurt:.4f}')\n",
    "\n",
    "# Log-transformation for target normalization\n",
    "target = np.log(target)\n",
    "\n",
    "plt.figure(figsize=(4, 4))\n",
    "stats.probplot(target, plot=plt)\n",
    "text = plt.title('Price')"
   ]
  },
  {
   "cell_type": "code",
   "execution_count": null,
   "metadata": {},
   "outputs": [],
   "source": [
    "room_nhgroup_pivot = df.pivot_table(index='room_type',\n",
    "    columns='neighbourhood_group', values='price',\n",
    "    aggfunc=sum).fillna(0).applymap(float)\n",
    "\n",
    "ax = sns.heatmap(room_nhgroup_pivot, annot=True,\n",
    "                 fmt=\".1f\", linewidths=.5)"
   ]
  },
  {
   "cell_type": "code",
   "execution_count": null,
   "metadata": {},
   "outputs": [],
   "source": [
    "fg = sns.catplot(x='calculated_host_listings_count',\n",
    "                 y='price', hue='room_type',\n",
    "                 kind=\"bar\", data=df)\n",
    "fg.fig.set_figwidth(17)\n",
    "fg.fig.set_figheight(7)\n",
    "fg.ax.tick_params(axis='x', rotation=70)\n",
    "fg.ax.legend(loc='upper right')\n",
    "plt.tight_layout()"
   ]
  },
  {
   "cell_type": "code",
   "execution_count": null,
   "metadata": {},
   "outputs": [],
   "source": [
    "top_nh = nh_vc[:10]\n",
    "top_nh_df = df[df['neighbourhood'].isin(top_nh.index)]\n",
    "\n",
    "nh_pivot = top_nh_df.pivot_table(index='room_type',\n",
    "    columns='neighbourhood', values='price',\n",
    "    aggfunc=sum).fillna(0).applymap(float)\n",
    "\n",
    "plt.figure(figsize=(12, 4))\n",
    "ax = sns.heatmap(nh_pivot, annot=True,\n",
    "                 fmt=\".1f\", linewidths=.5)"
   ]
  },
  {
   "cell_type": "code",
   "execution_count": null,
   "metadata": {},
   "outputs": [],
   "source": [
    "fg = sns.catplot(x='price', y='neighbourhood',\n",
    "                  kind='boxen', data=top_nh_df, orient='h')\n",
    "fg.fig.set_figwidth(16)\n",
    "fg.fig.set_figheight(6)"
   ]
  },
  {
   "cell_type": "markdown",
   "metadata": {},
   "source": [
    "#### Hypotheses and conclusions\n",
    "\n",
    "1. Entire homes/appartments are more expensive than other room types.\n",
    "   Obviously, shared rooms is most cheap type. Difference in price is very varying depends on region.\n",
    "2. Manhattan is very very luxury group comparing to others.\n",
    "   Second place takes Brooklyn.\n",
    "3. Williamsburg looks like a most expensive neighbourhood.\n",
    "4. Majority of neighbourhoods have strongly marked values in price, but not Williamsburg.\n",
    "   It's very notably in luxury neighbourhood groups.\n",
    "5. Despite the small count of rooms 'shared' type in dataset,\n",
    "   hosts more willingly make review about this room type. Similar behavior maybe be the consequense\n",
    "   of almost permanent availability during year.\n",
    "6. Minimum count of paid nights doesn't have strong influence on price.\n",
    "   But interesting: people very often paid for 99, 100 nights."
   ]
  }
 ],
 "metadata": {
  "kernelspec": {
   "display_name": "Python 3",
   "language": "python",
   "name": "python3"
  },
  "language_info": {
   "codemirror_mode": {
    "name": "ipython",
    "version": 3
   },
   "file_extension": ".py",
   "mimetype": "text/x-python",
   "name": "python",
   "nbconvert_exporter": "python",
   "pygments_lexer": "ipython3",
   "version": "3.7.4"
  }
 },
 "nbformat": 4,
 "nbformat_minor": 1
}