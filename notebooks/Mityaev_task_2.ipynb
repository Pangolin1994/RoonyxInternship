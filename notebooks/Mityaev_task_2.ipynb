{
 "cells": [
  {
   "cell_type": "code",
   "execution_count": 20,
   "metadata": {
    "pycharm": {
     "is_executing": true
    }
   },
   "outputs": [],
   "source": [
    "import os\n",
    "import numpy as np\n",
    "import pandas as pd\n",
    "\n",
    "data_dir = '../data'\n",
    "filename = 'AB_NYC_2019.csv'\n",
    "data_path = os.path.join(data_dir, filename)\n",
    "\n",
    "df = pd.read_csv(data_path)"
   ]
  },
  {
   "cell_type": "code",
   "execution_count": 21,
   "metadata": {
    "pycharm": {
     "is_executing": true,
     "name": "#%%\n"
    }
   },
   "outputs": [],
   "source": [
    "df['last_review'] = pd.to_datetime(df['last_review'])"
   ]
  },
  {
   "cell_type": "code",
   "execution_count": 22,
   "metadata": {
    "pycharm": {
     "is_executing": true,
     "name": "#%%\n"
    }
   },
   "outputs": [],
   "source": [
    "no_hostname = df[df['host_name'].isnull()]\n",
    "df.drop(index=no_hostname.index, inplace=True)"
   ]
  },
  {
   "cell_type": "code",
   "execution_count": 23,
   "metadata": {
    "pycharm": {
     "is_executing": true,
     "name": "#%%\n"
    }
   },
   "outputs": [],
   "source": [
    "no_name = df[df['name'].isnull()]\n",
    "df.drop(index=no_name.index, inplace=True)"
   ]
  },
  {
   "cell_type": "code",
   "execution_count": 24,
   "metadata": {
    "pycharm": {
     "is_executing": true,
     "name": "#%%\n"
    }
   },
   "outputs": [],
   "source": [
    "# About of 10k (almost quarter of full dataset!!!)\n",
    "# observations don't have useful reviews info\n",
    "no_info_cond = df['number_of_reviews'] == 0 & \\\n",
    "               df['last_review'].isnull() & \\\n",
    "               df['reviews_per_month'].isnull()\n",
    "no_info_sample = df[no_info_cond]\n",
    "\n",
    "df.drop(index=no_info_sample.index, inplace=True)\n",
    "\n",
    "df.index = range(len(df))"
   ]
  },
  {
   "cell_type": "code",
   "execution_count": 25,
   "metadata": {
    "pycharm": {
     "is_executing": true,
     "name": "#%%\n"
    }
   },
   "outputs": [],
   "source": [
    "by_room = df.groupby(by='room_type')\n",
    "\n",
    "def avg_per_sample(group):\n",
    "    return group.sum() / group.count()\n",
    "\n",
    "transf = by_room[\n",
    "    ['number_of_reviews', 'minimum_nights', 'reviews_per_month']\n",
    "].transform(avg_per_sample)"
   ]
  },
  {
   "cell_type": "code",
   "execution_count": 26,
   "metadata": {
    "pycharm": {
     "is_executing": true,
     "name": "#%%\n"
    }
   },
   "outputs": [],
   "source": [
    "num_df = df.select_dtypes(include=np.number)\n",
    "diff_mean_df = num_df.apply(lambda feature: abs(feature - feature.mean()))"
   ]
  },
  {
   "cell_type": "code",
   "execution_count": 27,
   "metadata": {
    "pycharm": {
     "is_executing": true,
     "name": "#%%\n"
    }
   },
   "outputs": [],
   "source": [
    "def extract_date(data):\n",
    "    return data.dt.year, data.dt.month, data.dt.day\n",
    "\n",
    "year, month, day = extract_date(df['last_review'])\n",
    "\n",
    "df[['review_year', 'review_month',\n",
    "    'review_day']] = pd.DataFrame({'year': year,\n",
    "                        'month': month,\n",
    "                        'day': day})\n",
    "\n",
    "df.drop(columns='last_review', inplace=True)"
   ]
  },
  {
   "cell_type": "code",
   "execution_count": 28,
   "metadata": {
    "pycharm": {
     "is_executing": true,
     "name": "#%%\n"
    }
   },
   "outputs": [],
   "source": [
    "by_nhgroup = df.groupby(by='neighbourhood_group')\n",
    "\n",
    "# FE (1 part)\n",
    "df[['avg_reviews', 'avg_min_nights',\n",
    "    'avg_reviews_per_month']] = transf\n",
    "\n",
    "def diff_avg(group):\n",
    "    return abs(group - group.mean())\n",
    "\n",
    "diff_avg = by_nhgroup[\n",
    "    ['number_of_reviews', 'availability_365']\n",
    "].apply(diff_avg)\n",
    "df[['diff_med_reviews', 'diff_med_availability']] = diff_avg\n",
    "\n",
    "df['year_available'] = df['availability_365'] == 365\n",
    "\n",
    "df['host_count_mean_diff'] = diff_mean_df['calculated_host_listings_count']\n",
    "df['minimum_nights_mean_diff'] = diff_mean_df['minimum_nights']\n",
    "\n",
    "df['review_period'] = df['number_of_reviews'] / df['reviews_per_month']"
   ]
  },
  {
   "cell_type": "code",
   "execution_count": 29,
   "metadata": {
    "pycharm": {
     "is_executing": true,
     "name": "#%%\n"
    }
   },
   "outputs": [],
   "source": [
    "# FE (2 part)\n",
    "\"\"\"\n",
    "by_hostname = df.groupby(by='host_name')\n",
    "\n",
    "def diff_median(group):\n",
    "    return abs(group - group.median())\n",
    "\n",
    "diff_med_reviews = by_hostname[\n",
    "    ['number_of_reviews', 'reviews_per_month']\n",
    "].apply(diff_median)\n",
    "df[['reviews_by_hostname',\n",
    "    'reviews_per_month_by_hostname']] = diff_med_reviews\n",
    "\"\"\"\n",
    "\n",
    "df['is_rare_type'] = df['room_type'] == 'Shared room'\n",
    "\n",
    "df['reviews_per_host'] = df['number_of_reviews'] / df['calculated_host_listings_count']\n",
    "\n",
    "df['min_available'] = df['minimum_nights'] * df['availability_365']"
   ]
  },
  {
   "cell_type": "code",
   "execution_count": 30,
   "metadata": {
    "pycharm": {
     "is_executing": true,
     "name": "#%%\n"
    }
   },
   "outputs": [],
   "source": [
    "target = df['price']\n",
    "df.drop(columns=['price'], inplace=True)\n",
    "\n",
    "target.replace(to_replace=0, value=target.mean(), inplace=True)\n",
    "target = np.log(target)"
   ]
  },
  {
   "cell_type": "code",
   "execution_count": 31,
   "metadata": {
    "pycharm": {
     "is_executing": true,
     "name": "#%%\n"
    }
   },
   "outputs": [],
   "source": [
    "from sklearn.model_selection import train_test_split, KFold\n",
    "from sklearn.preprocessing import (LabelEncoder, OneHotEncoder,\n",
    "                                   StandardScaler, KBinsDiscretizer)\n",
    "from sklearn.linear_model import LinearRegression, LogisticRegression\n",
    "from sklearn.tree import DecisionTreeRegressor\n",
    "from sklearn.neighbors import KNeighborsRegressor\n",
    "from sklearn.ensemble import RandomForestRegressor, GradientBoostingRegressor\n",
    "from sklearn.metrics import (mean_squared_error, r2_score, precision_score,\n",
    "                             accuracy_score, confusion_matrix, recall_score)\n",
    "\n",
    "kfold = KFold(n_splits=5, shuffle=True, random_state=0)\n",
    "\n",
    "lin_reg = LinearRegression(n_jobs=2)\n",
    "log_reg = LogisticRegression(random_state=0, n_jobs=2)\n",
    "\n",
    "tree_reg = DecisionTreeRegressor(random_state=0)\n",
    "knn_reg = KNeighborsRegressor(50, leaf_size=40, n_jobs=2)\n",
    "rf_reg = RandomForestRegressor(random_state=0, n_jobs=2)\n",
    "gbm_reg = GradientBoostingRegressor(random_state=0)"
   ]
  },
  {
   "cell_type": "code",
   "execution_count": 32,
   "metadata": {},
   "outputs": [
    {
     "name": "stdout",
     "output_type": "stream",
     "text": [
      "Wall time: 0 ns\n"
     ]
    }
   ],
   "source": [
    "%time\n",
    "# For linear models\n",
    "scaler = StandardScaler()\n",
    "scaled = scaler.fit_transform(df[num_df.columns])\n",
    "df[num_df.columns] = pd.DataFrame(scaled)"
   ]
  },
  {
   "cell_type": "code",
   "execution_count": 33,
   "metadata": {},
   "outputs": [
    {
     "name": "stdout",
     "output_type": "stream",
     "text": [
      "Wall time: 160 ms\n"
     ]
    }
   ],
   "source": [
    "%%time\n",
    "to_encode = ['room_type', 'neighbourhood_group']\n",
    "\n",
    "for col in to_encode:\n",
    "    le = LabelEncoder()\n",
    "    ohe = OneHotEncoder(categories='auto')\n",
    "    labeled = le.fit_transform(df[col])\n",
    "    labeled = labeled.reshape(len(labeled), 1)\n",
    "    encoded = ohe.fit_transform(labeled).toarray()\n",
    "    encoded_df = pd.DataFrame(\n",
    "        encoded, columns=['is_'+cat for cat in le.classes_]\n",
    "    )\n",
    "    df = df.join(encoded_df)\n",
    "    \n",
    "df.drop(columns=to_encode, inplace=True)"
   ]
  },
  {
   "cell_type": "code",
   "execution_count": 34,
   "metadata": {},
   "outputs": [
    {
     "name": "stdout",
     "output_type": "stream",
     "text": [
      "Wall time: 122 ms\n"
     ]
    }
   ],
   "source": [
    "%%time\n",
    "# Useless unique identifier\n",
    "df.drop(columns='id', inplace=True)\n",
    "# Have to make specific FE for sentences\n",
    "df.drop(columns='name', inplace=True)\n",
    "\n",
    "to_label = ['host_name', 'neighbourhood']\n",
    "\n",
    "for col in to_label:\n",
    "    le = LabelEncoder()\n",
    "    labeled = le.fit_transform(df[col])\n",
    "    df[col+'_label'] = labeled\n",
    "    \n",
    "df.drop(columns=to_label, inplace=True)"
   ]
  },
  {
   "cell_type": "markdown",
   "metadata": {},
   "source": [
    "#### Logistic regression model"
   ]
  },
  {
   "cell_type": "code",
   "execution_count": 35,
   "metadata": {},
   "outputs": [],
   "source": [
    "disc = KBinsDiscretizer(n_bins=3, encode='ordinal')\n",
    "disc_target = np.reshape(target.to_numpy(), (-1, 1))\n",
    "disc_target = disc.fit_transform(disc_target)\n",
    "disc_target = disc_target.ravel()"
   ]
  },
  {
   "cell_type": "code",
   "execution_count": 36,
   "metadata": {},
   "outputs": [
    {
     "data": {
      "text/plain": [
       "((24844, 34), (6212, 34), (7765, 34))"
      ]
     },
     "execution_count": 36,
     "metadata": {},
     "output_type": "execute_result"
    }
   ],
   "source": [
    "# Train-test split\n",
    "x, x_test, y, y_test = train_test_split(\n",
    "    df, disc_target, test_size=0.2, random_state=0, shuffle=True\n",
    ")\n",
    "# Train-val split\n",
    "x_train, x_val, y_train, y_val = train_test_split(\n",
    "    x, y, train_size=0.8, random_state=0, shuffle=True\n",
    ")\n",
    "x_train.shape, x_val.shape, x_test.shape"
   ]
  },
  {
   "cell_type": "code",
   "execution_count": 37,
   "metadata": {},
   "outputs": [
    {
     "name": "stdout",
     "output_type": "stream",
     "text": [
      "Train: accuracy = 0.408, precision = 0.406, recall = 0.409\n",
      "Validation: accuracy = 0.425 precision = 0.422, recall = 0.424\n",
      "Test: accuracy = 0.402, precision = 0.400, recall = 0.404\n"
     ]
    }
   ],
   "source": [
    "log_reg = log_reg.fit(x_train, y_train)\n",
    "\n",
    "y_pred_train = log_reg.predict(x_train)\n",
    "acc_train = accuracy_score(y_train, y_pred_train)\n",
    "confusion_mat = confusion_matrix(y_train, y_pred_train)\n",
    "prec_train = precision_score(y_train, y_pred_train, average='macro')\n",
    "recall_train = recall_score(y_train, y_pred_train, average='macro')\n",
    "\n",
    "y_pred_val = log_reg.predict(x_val)\n",
    "acc_val = accuracy_score(y_val, y_pred_val)\n",
    "prec_val = precision_score(y_val, y_pred_val, average='macro')\n",
    "recall_val = recall_score(y_val, y_pred_val, average='macro')\n",
    "\n",
    "y_pred = log_reg.predict(x_test)\n",
    "acc_test = accuracy_score(y_test, y_pred)\n",
    "prec_test = precision_score(y_test, y_pred, average='macro')\n",
    "recall_test = recall_score(y_test, y_pred, average='macro')\n",
    "\n",
    "print(f'Train: accuracy = {acc_train:.3f}, '\n",
    "      f'precision = {prec_train:.3f}, recall = {recall_train:.3f}')\n",
    "print(f'Validation: accuracy = {acc_val:.3f} '\n",
    "      f'precision = {prec_val:.3f}, recall = {recall_val:.3f}')\n",
    "print(f'Test: accuracy = {acc_test:.3f}, '\n",
    "      f'precision = {prec_test:.3f}, recall = {recall_test:.3f}')"
   ]
  },
  {
   "cell_type": "markdown",
   "metadata": {},
   "source": [
    "#### Linear regression model"
   ]
  },
  {
   "cell_type": "code",
   "execution_count": 39,
   "metadata": {
    "pycharm": {
     "is_executing": true,
     "name": "#%%\n"
    }
   },
   "outputs": [],
   "source": [
    "# Train-test split\n",
    "x, x_test, y, y_test = train_test_split(\n",
    "    df, target, test_size=0.2, random_state=0, shuffle=True\n",
    ")\n",
    "# Train-val split\n",
    "x_train, x_val, y_train, y_val = train_test_split(\n",
    "    x, y, train_size=0.8, random_state=0, shuffle=True\n",
    ")"
   ]
  },
  {
   "cell_type": "code",
   "execution_count": 40,
   "metadata": {},
   "outputs": [
    {
     "name": "stdout",
     "output_type": "stream",
     "text": [
      "Train: MSE = 0.12670, R2 = 0.713\n",
      "Validation: MSE = 0.14096, R2 = 0.688\n",
      "Test: MSE = 0.12146, R2 = 0.716\n"
     ]
    }
   ],
   "source": [
    "lin_reg = lin_reg.fit(x_train, y_train)\n",
    "\n",
    "y_pred_train = lin_reg.predict(x_train)\n",
    "mse_train = mean_squared_error(y_train, y_pred_train)\n",
    "r2_train = r2_score(y_train, y_pred_train)\n",
    "\n",
    "y_pred_val = lin_reg.predict(x_val)\n",
    "mse_val = mean_squared_error(y_val, y_pred_val)\n",
    "r2_val = r2_score(y_val, y_pred_val)\n",
    "\n",
    "y_pred = lin_reg.predict(x_test)\n",
    "mse = mean_squared_error(y_test, y_pred)\n",
    "r2_test = r2_score(y_test, y_pred)\n",
    "\n",
    "print('Train: MSE = {0:.5f}, R2 = {1:.3f}'.format(\n",
    "    mse_train, r2_train\n",
    "))\n",
    "print('Validation: MSE = {0:.5f}, R2 = {1:.3f}'.format(\n",
    "    mse_val, r2_val\n",
    "))\n",
    "print('Test: MSE = {0:.5f}, R2 = {1:.3f}'.format(\n",
    "    mse, r2_test\n",
    "))"
   ]
  },
  {
   "cell_type": "markdown",
   "metadata": {},
   "source": [
    "#### K Nearest Neighbours model"
   ]
  },
  {
   "cell_type": "code",
   "execution_count": 41,
   "metadata": {},
   "outputs": [
    {
     "name": "stdout",
     "output_type": "stream",
     "text": [
      "Train: MSE = 0.40553, R2 = 0.081\n",
      "Validation: MSE = 0.43193, R2 = 0.045\n",
      "Test: MSE = 0.40989, R2 = 0.042\n"
     ]
    }
   ],
   "source": [
    "knn_reg = knn_reg.fit(x_train, y_train)\n",
    "\n",
    "y_pred_train = knn_reg.predict(x_train)\n",
    "mse_train = mean_squared_error(y_train, y_pred_train)\n",
    "r2_train = r2_score(y_train, y_pred_train)\n",
    "\n",
    "y_pred_val = knn_reg.predict(x_val)\n",
    "mse_val = mean_squared_error(y_val, y_pred_val)\n",
    "r2_val = r2_score(y_val, y_pred_val)\n",
    "\n",
    "y_pred = knn_reg.predict(x_test)\n",
    "mse = mean_squared_error(y_test, y_pred)\n",
    "r2_test = r2_score(y_test, y_pred)\n",
    "\n",
    "print('Train: MSE = {0:.5f}, R2 = {1:.3f}'.format(\n",
    "    mse_train, r2_train\n",
    "))\n",
    "print('Validation: MSE = {0:.5f}, R2 = {1:.3f}'.format(\n",
    "    mse_val, r2_val\n",
    "))\n",
    "print('Test: MSE = {0:.5f}, R2 = {1:.3f}'.format(\n",
    "    mse, r2_test\n",
    "))"
   ]
  },
  {
   "cell_type": "markdown",
   "metadata": {},
   "source": [
    "#### Decision tree model"
   ]
  },
  {
   "cell_type": "code",
   "execution_count": 42,
   "metadata": {},
   "outputs": [
    {
     "name": "stdout",
     "output_type": "stream",
     "text": [
      "Train: MSE = 0.00000, R2 = 1.000\n",
      "Validation: MSE = 0.00001, R2 = 1.000\n",
      "Test: MSE = 0.00001, R2 = 1.000\n"
     ]
    }
   ],
   "source": [
    "tree_reg = tree_reg.fit(x_train, y_train)\n",
    "\n",
    "y_pred_train = tree_reg.predict(x_train)\n",
    "mse_train = mean_squared_error(y_train, y_pred_train)\n",
    "r2_train = r2_score(y_train, y_pred_train)\n",
    "\n",
    "y_pred_val = tree_reg.predict(x_val)\n",
    "mse_val = mean_squared_error(y_val, y_pred_val)\n",
    "r2_val = r2_score(y_val, y_pred_val)\n",
    "\n",
    "y_pred = tree_reg.predict(x_test)\n",
    "mse = mean_squared_error(y_test, y_pred)\n",
    "r2_test = r2_score(y_test, y_pred)\n",
    "\n",
    "print('Train: MSE = {0:.5f}, R2 = {1:.3f}'.format(\n",
    "    mse_train, r2_train\n",
    "))\n",
    "print('Validation: MSE = {0:.5f}, R2 = {1:.3f}'.format(\n",
    "    mse_val, r2_val\n",
    "))\n",
    "print('Test: MSE = {0:.5f}, R2 = {1:.3f}'.format(\n",
    "    mse, r2_test\n",
    "))"
   ]
  },
  {
   "cell_type": "markdown",
   "metadata": {},
   "source": [
    "#### Random forest model"
   ]
  },
  {
   "cell_type": "code",
   "execution_count": 43,
   "metadata": {},
   "outputs": [
    {
     "name": "stdout",
     "output_type": "stream",
     "text": [
      "Train: MSE = 0.00000, R2 = 1.000\n",
      "Validation: MSE = 0.00001, R2 = 1.000\n",
      "Test: MSE = 0.00001, R2 = 1.000\n"
     ]
    }
   ],
   "source": [
    "rf_reg = rf_reg.fit(x_train, y_train)\n",
    "\n",
    "y_pred_train = rf_reg.predict(x_train)\n",
    "mse_train = mean_squared_error(y_train, y_pred_train)\n",
    "r2_train = r2_score(y_train, y_pred_train)\n",
    "\n",
    "y_pred_val = rf_reg.predict(x_val)\n",
    "mse_val = mean_squared_error(y_val, y_pred_val)\n",
    "r2_val = r2_score(y_val, y_pred_val)\n",
    "\n",
    "y_pred = rf_reg.predict(x_test)\n",
    "mse = mean_squared_error(y_test, y_pred)\n",
    "r2_test = r2_score(y_test, y_pred)\n",
    "\n",
    "print('Train: MSE = {0:.5f}, R2 = {1:.3f}'.format(\n",
    "    mse_train, r2_train\n",
    "))\n",
    "print('Validation: MSE = {0:.5f}, R2 = {1:.3f}'.format(\n",
    "    mse_val, r2_val\n",
    "))\n",
    "print('Test: MSE = {0:.5f}, R2 = {1:.3f}'.format(\n",
    "    mse, r2_test\n",
    "))"
   ]
  },
  {
   "cell_type": "markdown",
   "metadata": {},
   "source": [
    "#### Gradient boosting model"
   ]
  },
  {
   "cell_type": "code",
   "execution_count": 44,
   "metadata": {},
   "outputs": [
    {
     "name": "stdout",
     "output_type": "stream",
     "text": [
      "Train: MSE = 0.00002, R2 = 1.000\n",
      "Validation: MSE = 0.00002, R2 = 1.000\n",
      "Test: MSE = 0.00002, R2 = 1.000\n"
     ]
    }
   ],
   "source": [
    "gbm_reg = gbm_reg.fit(x_train, y_train)\n",
    "\n",
    "y_pred_train = gbm_reg.predict(x_train)\n",
    "mse_train = mean_squared_error(y_train, y_pred_train)\n",
    "r2_train = r2_score(y_train, y_pred_train)\n",
    "\n",
    "y_pred_val = gbm_reg.predict(x_val)\n",
    "mse_val = mean_squared_error(y_val, y_pred_val)\n",
    "r2_val = r2_score(y_val, y_pred_val)\n",
    "\n",
    "y_pred = gbm_reg.predict(x_test)\n",
    "mse = mean_squared_error(y_test, y_pred)\n",
    "r2_test = r2_score(y_test, y_pred)\n",
    "\n",
    "print('Train: MSE = {0:.5f}, R2 = {1:.3f}'.format(\n",
    "    mse_train, r2_train\n",
    "))\n",
    "print('Validation: MSE = {0:.5f}, R2 = {1:.3f}'.format(\n",
    "    mse_val, r2_val\n",
    "))\n",
    "print('Test: MSE = {0:.5f}, R2 = {1:.3f}'.format(\n",
    "    mse, r2_test\n",
    "))"
   ]
  },
  {
   "cell_type": "code",
   "execution_count": null,
   "metadata": {},
   "outputs": [],
   "source": []
  }
 ],
 "metadata": {
  "kernelspec": {
   "display_name": "Python 3",
   "language": "python",
   "name": "python3"
  },
  "language_info": {
   "codemirror_mode": {
    "name": "ipython",
    "version": 3
   },
   "file_extension": ".py",
   "mimetype": "text/x-python",
   "name": "python",
   "nbconvert_exporter": "python",
   "pygments_lexer": "ipython3",
   "version": "3.7.4"
  }
 },
 "nbformat": 4,
 "nbformat_minor": 1
}